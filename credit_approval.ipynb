{
 "cells": [
  {
   "cell_type": "markdown",
   "source": [
    "## Introduction\r\n",
    "Numerous online lending platforms have emerged in recent times, offering loan opportunities to businesses,\r\n",
    "similar to banks. However, they are also faced with the risk of user loan default, which is correlated to the\r\n",
    "sustainability and healthy development of the platforms.\r\n",
    "The importance of calculating and predicting credit risks cannot be overemphasised. Evaluating an\r\n",
    "individual’s financial information and historical data is pivotal to predicting whether he/she would default\r\n",
    "on a loan or not.\r\n",
    "\r\n",
    "\r\n",
    "Credit score cards are a common risk control method in the financial industry. It uses personal information,\r\n",
    "and data submitted by credit card applicants to predict the probability of future defaults and credit card\r\n",
    "borrowings. The bank or lending company is able to decide whether to issue a credit card to the applicant or\r\n",
    "not. Credit scores can objectively quantify the magnitude of risk.\r\n",
    "The project will focus on predicting whether an applicant is qualified to receive a loan or not."
   ],
   "metadata": {}
  },
  {
   "cell_type": "markdown",
   "source": [
    "## Introduction to the Dataset\r\n",
    "\r\n",
    "The dataset was retrieved from [Kaggle](https://www.kaggle.com/rikdifos/credit-card-approval-prediction). There are two tables, which are connected by ID.\r\n",
    "Detailed explanation is [here](https://www.kaggle.com/rikdifos/credit-card-approval-prediction).\r\n",
    "\r\n",
    "\r\n",
    "application_record.csv contains appliers personal information, which you could use as features for predicting. \r\n",
    "credit_record.csv records users' behaviors of credit card.\r\n"
   ],
   "metadata": {}
  },
  {
   "cell_type": "code",
   "execution_count": null,
   "source": [
    "import pandas as pd\r\n",
    "import numpy as np\r\n"
   ],
   "outputs": [],
   "metadata": {}
  }
 ],
 "metadata": {
  "orig_nbformat": 4,
  "language_info": {
   "name": "python"
  }
 },
 "nbformat": 4,
 "nbformat_minor": 2
}